{
 "cells": [
  {
   "cell_type": "code",
   "execution_count": 1,
   "id": "68978e4c",
   "metadata": {},
   "outputs": [],
   "source": [
    "import openai\n",
    "\n",
    "client = openai.OpenAI(\n",
    "    api_key = open(\"key.txt\", \"r\").read().strip(\"\\n\")\n",
    ")"
   ]
  },
  {
   "cell_type": "code",
   "execution_count": 2,
   "id": "eb274be2",
   "metadata": {},
   "outputs": [
    {
     "name": "stdout",
     "output_type": "stream",
     "text": [
      "ChatCompletion(id='chatcmpl-BwArCRVBR0xF9ooybB3CJsXCnTUcS', choices=[Choice(finish_reason='stop', index=0, logprobs=None, message=ChatCompletionMessage(content='The circumference of the Moon is approximately 10,921 kilometers (6,786 miles). This measurement is based on its average diameter of about 3,474 kilometers (2,159 miles).', refusal=None, role='assistant', annotations=[], audio=None, function_call=None, tool_calls=None))], created=1753204458, model='gpt-4.1-nano-2025-04-14', object='chat.completion', service_tier='default', system_fingerprint=None, usage=CompletionUsage(completion_tokens=39, prompt_tokens=14, total_tokens=53, completion_tokens_details=CompletionTokensDetails(accepted_prediction_tokens=0, audio_tokens=0, reasoning_tokens=0, rejected_prediction_tokens=0), prompt_tokens_details=PromptTokensDetails(audio_tokens=0, cached_tokens=0)))\n"
     ]
    }
   ],
   "source": [
    "completion = openai.chat.completions.create(\n",
    "    model = \"gpt-4.1-nano\",\n",
    "    messages = [{\"role\": \"user\", \"content\": \"What is the circumference of the moon\"}]\n",
    "    )\n",
    "\n",
    "print(completion)\n"
   ]
  },
  {
   "cell_type": "code",
   "execution_count": 3,
   "id": "ff9b110a",
   "metadata": {},
   "outputs": [
    {
     "name": "stdout",
     "output_type": "stream",
     "text": [
      "The circumference of the Moon is approximately 10,921 kilometers (6,786 miles). This measurement is based on its average diameter of about 3,474 kilometers (2,159 miles).\n"
     ]
    }
   ],
   "source": [
    "reply_content = completion.choices[0].message.content\n",
    "print(reply_content)"
   ]
  },
  {
   "cell_type": "code",
   "execution_count": 4,
   "id": "aff6aa67",
   "metadata": {},
   "outputs": [
    {
     "name": "stdout",
     "output_type": "stream",
     "text": [
      "User's input was What is the circumference of the moon\n"
     ]
    }
   ],
   "source": [
    "message_history = []\n",
    "user_input = input(\">: \")\n",
    "print(\"User's input was\", user_input)"
   ]
  },
  {
   "cell_type": "code",
   "execution_count": 5,
   "id": "8cb666ca",
   "metadata": {},
   "outputs": [],
   "source": [
    "message_history.append({\"role\": \"user\", \"content\": user_input})"
   ]
  },
  {
   "cell_type": "code",
   "execution_count": 6,
   "id": "284165b0",
   "metadata": {},
   "outputs": [
    {
     "name": "stdout",
     "output_type": "stream",
     "text": [
      "The circumference of the Moon is approximately 6,790 kilometers (about 4,212 miles).\n"
     ]
    }
   ],
   "source": [
    "completion = openai.chat.completions.create(\n",
    "    model = \"gpt-4.1-nano\",\n",
    "    messages = message_history\n",
    "    )\n",
    "\n",
    "reply_content = completion.choices[0].message.content\n",
    "print(reply_content)"
   ]
  },
  {
   "cell_type": "code",
   "execution_count": 7,
   "id": "8075bae3",
   "metadata": {},
   "outputs": [],
   "source": [
    "message_history.append({\"role\": \"assistant\", \"content\": \"reply_content\"})"
   ]
  },
  {
   "cell_type": "code",
   "execution_count": 8,
   "id": "d2947269",
   "metadata": {},
   "outputs": [
    {
     "name": "stdout",
     "output_type": "stream",
     "text": [
      "User's input was How are you today\n",
      "\n",
      "I'm doing well, thank you! How can I assist you today?\n"
     ]
    }
   ],
   "source": [
    "user_input = input(\">: \")\n",
    "print(\"User's input was\", user_input)\n",
    "print()\n",
    "message_history.append({\"role\": \"user\", \"content\": user_input})\n",
    "completion = openai.chat.completions.create(\n",
    "    model = \"gpt-4.1-nano\",\n",
    "    messages = message_history,\n",
    "    )\n",
    "\n",
    "reply_content = completion.choices[0].message.content\n",
    "print(reply_content)"
   ]
  },
  {
   "cell_type": "code",
   "execution_count": null,
   "id": "c4d06f09",
   "metadata": {},
   "outputs": [
    {
     "name": "stdout",
     "output_type": "stream",
     "text": [
      "User's input was How does an engine work\n",
      "\n",
      "An engine converts energy into mechanical motion, allowing machinery such as cars, planes, and industrial equipment to operate. The most common type is the internal combustion engine, which works through a series of controlled explosions inside cylinders. Here's a simplified overview of how it functions:\n",
      "\n",
      "1. **Intake:** The engine draws in a mixture of air and fuel into the combustion chamber.\n",
      "\n",
      "2. **Compression:** The piston compresses the mixture, increasing its pressure and temperature for a more powerful explosion.\n",
      "\n",
      "3. **Power (Combustion):** Spark plugs ignite the compressed mixture, causing a miniature explosion. The rapid expansion of gases pushes the piston downward, creating mechanical power.\n",
      "\n",
      "4. **Exhaust:** The burned gases are expelled from the cylinder, making space for a new mixture to be drawn in, and the cycle repeats.\n",
      "\n",
      "This continuous process of intake, compression, combustion, and exhaust produces the rotary motion needed to turn the engine's crankshaft, ultimately powering a vehicle or device. Different engine types (electric, steam, etc.) operate on distinct principles, but internal combustion engines remain the most common in transportation.\n",
      "User's input was Can you tell me about basic economic methodologies\n",
      "\n",
      "Certainly! Basic economic methodologies are the approaches and tools used by economists to analyze economic phenomena, develop theories, and inform policy decisions. Here are some of the fundamental methodologies:\n",
      "\n",
      "1. **Positive Analysis:** This approach focuses on describing and explaining economic facts and relationships as they are, without judgment or opinion. It answers \"what is\" and \"how\" questions, using data and empirical evidence.\n",
      "\n",
      "2. **Normative Analysis:** This involves value-based judgments about what economic policies should be. It addresses \"what ought to be\" and often involves ethical considerations and policy recommendations.\n",
      "\n",
      "3. **Model Building and Theoretical Frameworks:** Economists develop simplified representations of reality—models—to understand complex economic interactions. These may be diagrammatic (graphs) or mathematical models that illustrate relationships between variables like supply and demand.\n",
      "\n",
      "4. **Empirical Methods:** These involve collecting and analyzing data through surveys, experiments, or historical records to test hypotheses and validate models.\n",
      "\n",
      "5. **Comparative Statics:** A methodology to analyze the equilibrium change resulting from a shift in underlying parameters or conditions in a model.\n",
      "\n",
      "6. **Econometric Analysis:** The application of statistical methods to economic data to estimate relationships, test hypotheses, and forecast future trends.\n",
      "\n",
      "7. **Cost-Benefit Analysis:** A systematic approach to compare the costs and benefits of different policies or projects to determine the most efficient options.\n",
      "\n",
      "These methodologies enable economists to understand economic behavior, predict outcomes, and advise on policies effectively.\n"
     ]
    }
   ],
   "source": [
    "message_history = []\n",
    "\n",
    "def chat(inp, role = \"user\"):\n",
    "    message_history.append({\"role\": role, \"content\": inp})\n",
    "\n",
    "    completion = openai.chat.completions.create(\n",
    "    model = \"gpt-4.1-nano\",\n",
    "    messages = message_history,\n",
    "    )\n",
    "\n",
    "    reply_content = completion.choices[0].message.content\n",
    "    print(reply_content)\n",
    "    message_history.append({\"role\": \"assistant\", \"content\": reply_content})\n",
    "    return reply_content\n",
    "\n",
    "for i in range(2):\n",
    "    user_input = input(\">: \")\n",
    "    print()\n",
    "    chat(user_input)"
   ]
  }
 ],
 "metadata": {
  "kernelspec": {
   "display_name": "Python 3",
   "language": "python",
   "name": "python3"
  },
  "language_info": {
   "codemirror_mode": {
    "name": "ipython",
    "version": 3
   },
   "file_extension": ".py",
   "mimetype": "text/x-python",
   "name": "python",
   "nbconvert_exporter": "python",
   "pygments_lexer": "ipython3",
   "version": "3.13.5"
  }
 },
 "nbformat": 4,
 "nbformat_minor": 5
}
