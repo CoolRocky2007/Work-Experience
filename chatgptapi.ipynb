{
 "cells": [
  {
   "cell_type": "code",
   "execution_count": 48,
   "id": "68978e4c",
   "metadata": {},
   "outputs": [],
   "source": [
    "import openai\n",
    "\n",
    "client = openai.OpenAI(\n",
    "    api_key = open(\"key.txt\", \"r\").read().strip(\"\\n\")\n",
    ")"
   ]
  },
  {
   "cell_type": "code",
   "execution_count": null,
   "id": "eb274be2",
   "metadata": {},
   "outputs": [
    {
     "name": "stdout",
     "output_type": "stream",
     "text": [
      "ChatCompletion(id='chatcmpl-BqypkBl0fP1240awYFPRHlLyhOWNU', choices=[Choice(finish_reason='stop', index=0, logprobs=None, message=ChatCompletionMessage(content='The average circumference of the Moon at the equator is approximately 10,921 kilometers (6,786 miles).', refusal=None, role='assistant', annotations=[], audio=None, function_call=None, tool_calls=None))], created=1751966600, model='gpt-4.1-nano-2025-04-14', object='chat.completion', service_tier='default', system_fingerprint='fp_38343a2f8f', usage=CompletionUsage(completion_tokens=23, prompt_tokens=14, total_tokens=37, completion_tokens_details=CompletionTokensDetails(accepted_prediction_tokens=0, audio_tokens=0, reasoning_tokens=0, rejected_prediction_tokens=0), prompt_tokens_details=PromptTokensDetails(audio_tokens=0, cached_tokens=0)))\n"
     ]
    }
   ],
   "source": [
    "completion = client.chat.completions.create(\n",
    "    model = \"gpt-4.1-nano\",\n",
    "    messages = [{\"role\": \"user\", \"content\": \"What is the circumference of the moon\"}]\n",
    "    )\n",
    "\n",
    "print(completion)\n"
   ]
  },
  {
   "cell_type": "code",
   "execution_count": 50,
   "id": "ff9b110a",
   "metadata": {},
   "outputs": [
    {
     "name": "stdout",
     "output_type": "stream",
     "text": [
      "The average circumference of the Moon at the equator is approximately 10,921 kilometers (6,786 miles).\n"
     ]
    }
   ],
   "source": [
    "reply_content = completion.choices[0].message.content\n",
    "print(reply_content)"
   ]
  },
  {
   "cell_type": "code",
   "execution_count": 51,
   "id": "aff6aa67",
   "metadata": {},
   "outputs": [
    {
     "name": "stdout",
     "output_type": "stream",
     "text": [
      "User's input was what is the circumference of the moon\n"
     ]
    }
   ],
   "source": [
    "message_history = []\n",
    "user_input = input(\">: \")\n",
    "print(\"User's input was\", user_input)"
   ]
  },
  {
   "cell_type": "code",
   "execution_count": 52,
   "id": "8cb666ca",
   "metadata": {},
   "outputs": [],
   "source": [
    "message_history.append({\"role\": \"user\", \"content\": user_input})"
   ]
  },
  {
   "cell_type": "code",
   "execution_count": null,
   "id": "284165b0",
   "metadata": {},
   "outputs": [
    {
     "name": "stdout",
     "output_type": "stream",
     "text": [
      "The circumference of the Moon is approximately 6,783 kilometers (about 4,212 miles).\n"
     ]
    }
   ],
   "source": [
    "completion = openai.chat.completions.create(\n",
    "    model = \"gpt-4.1-nano\",\n",
    "    messages = message_history\n",
    "    )\n",
    "\n",
    "reply_content = completion.choices[0].message.content\n",
    "print(reply_content)"
   ]
  },
  {
   "cell_type": "code",
   "execution_count": 54,
   "id": "8075bae3",
   "metadata": {},
   "outputs": [],
   "source": [
    "message_history.append({\"role\": \"assistant\", \"content\": \"reply_content\"})"
   ]
  },
  {
   "cell_type": "code",
   "execution_count": null,
   "id": "d2947269",
   "metadata": {},
   "outputs": [
    {
     "name": "stdout",
     "output_type": "stream",
     "text": [
      "User's input was what moon is this in reference to\n",
      "\n",
      "The circumference I mentioned refers to the Moon that orbits Earth, commonly known as Earth's Moon. If you were referring to a different moon (such as those of other planets), please specify which one, and I'll be happy to provide details!\n"
     ]
    }
   ],
   "source": [
    "user_input = input(\">: \")\n",
    "print(\"User's input was\", user_input)\n",
    "print()\n",
    "message_history.append({\"role\": \"user\", \"content\": user_input})\n",
    "completion = openai.chat.completions.create(\n",
    "    model = \"gpt-4.1-nano\",\n",
    "    messages = message_history,\n",
    "    )\n",
    "\n",
    "reply_content = completion.choices[0].message.content\n",
    "print(reply_content)"
   ]
  },
  {
   "cell_type": "code",
   "execution_count": null,
   "id": "c4d06f09",
   "metadata": {},
   "outputs": [],
   "source": [
    "message_history = []\n",
    "\n",
    "def chat(inp, role = \"user\"):\n",
    "    message_history.append({\"role\": role, \"content\": inp})\n",
    "\n",
    "    completion = openai.chat.completions.create(\n",
    "    model = \"gpt-4.1-nano\",\n",
    "    messages = message_history,\n",
    "    )\n",
    "\n",
    "    reply_content = completion.choices[0].message.content\n",
    "    print(reply_content)\n",
    "    message_history.append({\"role\": \"assistant\", \"content\": reply_content})\n",
    "    return reply_content\n",
    "\n",
    "for i in range(2):\n",
    "    user_input(\">: \")\n",
    "    print(\"User's input was\", user_input)\n",
    "    print()\n",
    "    chat(user_input)"
   ]
  }
 ],
 "metadata": {
  "kernelspec": {
   "display_name": "Python 3",
   "language": "python",
   "name": "python3"
  },
  "language_info": {
   "codemirror_mode": {
    "name": "ipython",
    "version": 3
   },
   "file_extension": ".py",
   "mimetype": "text/x-python",
   "name": "python",
   "nbconvert_exporter": "python",
   "pygments_lexer": "ipython3",
   "version": "3.13.5"
  }
 },
 "nbformat": 4,
 "nbformat_minor": 5
}
